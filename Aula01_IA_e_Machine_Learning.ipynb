{
  "nbformat": 4,
  "nbformat_minor": 0,
  "metadata": {
    "colab": {
      "name": "Aula01 - IA e Machine Learning.ipynb",
      "provenance": [],
      "authorship_tag": "ABX9TyOfgSUbj6K+NIB+qFSDVjl3",
      "include_colab_link": true
    },
    "kernelspec": {
      "name": "python3",
      "display_name": "Python 3"
    },
    "language_info": {
      "name": "python"
    }
  },
  "cells": [
    {
      "cell_type": "markdown",
      "metadata": {
        "id": "view-in-github",
        "colab_type": "text"
      },
      "source": [
        "<a href=\"https://colab.research.google.com/github/JeffersonFelix/my-repo/blob/main/Aula01_IA_e_Machine_Learning.ipynb\" target=\"_parent\"><img src=\"https://colab.research.google.com/assets/colab-badge.svg\" alt=\"Open In Colab\"/></a>"
      ]
    },
    {
      "cell_type": "code",
      "execution_count": 1,
      "metadata": {
        "id": "2yp67KEIBy3t"
      },
      "outputs": [],
      "source": [
        "# Autor: Jefferson Felix Gomes\n",
        "# Primeiros passos da ciência de dados"
      ]
    },
    {
      "cell_type": "code",
      "source": [
        "a = 10\n",
        "b = 10\n",
        "c = (a + b)\n",
        "print(\"O resultado é:\", c)"
      ],
      "metadata": {
        "colab": {
          "base_uri": "https://localhost:8080/"
        },
        "id": "6YBLK7dPCNIz",
        "outputId": "99edce8c-3ad8-4f22-eab9-aecbd383280b"
      },
      "execution_count": 2,
      "outputs": [
        {
          "output_type": "stream",
          "name": "stdout",
          "text": [
            "O resultado é: 20\n"
          ]
        }
      ]
    },
    {
      "cell_type": "markdown",
      "source": [
        "Estamos na aula do professor Ricardo, aprendendo a usar o google colab."
      ],
      "metadata": {
        "id": "jJFX3nLLCmi6"
      }
    }
  ]
}